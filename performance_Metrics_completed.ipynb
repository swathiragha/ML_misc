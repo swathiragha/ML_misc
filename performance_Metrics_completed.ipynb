{
  "nbformat": 4,
  "nbformat_minor": 0,
  "metadata": {
    "colab": {
      "provenance": []
    },
    "kernelspec": {
      "name": "python3",
      "display_name": "Python 3"
    },
    "language_info": {
      "name": "python"
    }
  },
  "cells": [
    {
      "cell_type": "markdown",
      "source": [
        " Compute Confusion Matrix\n",
        "\n",
        " Compute F1 Score \n",
        "\n",
        " Compute AUC Score, you need to compute different thresholds and for each threshold compute tpr,fpr and then use            numpy.trapz(tpr_array, fpr_array) https://stackoverflow.com/q/53603376/4084039, https://stackoverflow.com/a/39678975/4084039 Note: it should be numpy.trapz(tpr_array, fpr_array) not numpy.trapz(fpr_array, tpr_array)\n",
        "Note- Make sure that you arrange your probability scores in descending order while calculating AUC\n",
        "\n",
        " Compute Accuracy Score "
      ],
      "metadata": {
        "id": "kStt4N1QZ-qK"
      }
    },
    {
      "cell_type": "code",
      "execution_count": null,
      "metadata": {
        "id": "jSsq1bcLYwF_"
      },
      "outputs": [],
      "source": [
        "import numpy as np\n",
        "import pandas as pd\n",
        "import matplotlib.pyplot as plt\n",
        "\n"
      ]
    },
    {
      "cell_type": "code",
      "source": [
        "from google.colab import files\n",
        "uploaded = files.upload()"
      ],
      "metadata": {
        "id": "IUu30H_LcC9q"
      },
      "execution_count": null,
      "outputs": []
    },
    {
      "cell_type": "code",
      "source": [
        "#reading csv and arriving at y_predicted based on the probability score\n",
        "df_a=pd.read_csv('5_a.csv')\n",
        "df_a\n",
        "for i in df_a.proba:\n",
        "  if i > 0.5 or i==0.5:\n",
        "    df_a['y_predicted'] = 1\n",
        "  else:\n",
        "    df_a['y_predicted'] = 0\n",
        "  \n"
      ],
      "metadata": {
        "id": "vD-umwpwacET"
      },
      "execution_count": null,
      "outputs": []
    },
    {
      "cell_type": "code",
      "source": [
        "df_a.head(20)\n",
        "df_a.iloc[:,1]"
      ],
      "metadata": {
        "colab": {
          "base_uri": "https://localhost:8080/"
        },
        "id": "kksNk2B2QN1E",
        "outputId": "ba50b97c-4848-425a-c980-f312767d973f"
      },
      "execution_count": null,
      "outputs": [
        {
          "output_type": "execute_result",
          "data": {
            "text/plain": [
              "0        0.637387\n",
              "1        0.635165\n",
              "2        0.766586\n",
              "3        0.724564\n",
              "4        0.889199\n",
              "           ...   \n",
              "10095    0.665371\n",
              "10096    0.607961\n",
              "10097    0.777724\n",
              "10098    0.846036\n",
              "10099    0.679507\n",
              "Name: proba, Length: 10100, dtype: float64"
            ]
          },
          "metadata": {},
          "execution_count": 10
        }
      ]
    },
    {
      "cell_type": "code",
      "source": [
        "#Calculating the Total Number positive and Negative points\n",
        "def calculate_total_pos_neg_points(data_frame):\n",
        "    total_number_positive_points = data_frame.loc[data_frame['y']==1]\n",
        "    total_number_positive_points = len(total_number_positive_points)\n",
        "    total_number_negative_points = data_frame.loc[data_frame['y']==0]\n",
        "    total_number_negative_points = len(total_number_negative_points)\n",
        "    total_number_points = (total_number_positive_points + total_number_negative_points)\n",
        "    return total_number_positive_points, total_number_negative_points,total_number_points"
      ],
      "metadata": {
        "id": "7FeotSlxYtcl"
      },
      "execution_count": null,
      "outputs": []
    },
    {
      "cell_type": "code",
      "source": [
        "#############have to REMOVE REMOVE THIS##########\n",
        "def confusion_matrix(data):\n",
        "    count_tn=len(data[(data['y']==0) & (data['y_pred']==0)])\n",
        "    count_tp=len(data[(data['y']==1) & (data['y_pred']==1)]) #calculating tn,tp,fn,fp\n",
        "    count_fn=len(data[(data['y']==1) & (data['y_pred']==0)])\n",
        "    count_fp=len(data[(data['y']==0) & (data['y_pred']==1)])\n",
        "    return count_fn,count_fp,count_tn,count_tp"
      ],
      "metadata": {
        "id": "vJqnlMe5-PiY"
      },
      "execution_count": null,
      "outputs": []
    },
    {
      "cell_type": "code",
      "source": [
        "#############have to REMOVE REMOVE THIS##########\n",
        "\n",
        "tpr_array=[]\n",
        "fpr_array=[]\n",
        "sort= df_b.sort_values(\"proba\",ascending=False) # sort sart based on probability scores\n",
        "for i in range(0,len(sort)):\n",
        "  sort['y_pred']=np.where(sort['proba']>=sort.iloc[i]['proba'],1,0) # predicting the y based on each threshold\n",
        "  FN,FP,TN,TP=confusion_matrix(sort)# for each threshold calculating confusion matrix\n",
        "  fpr_rate=FP/(TN+FP)\n",
        "  tpr_rate=TP/(TP+FN)\n",
        "  tpr_array.append(tpr_rate)\n",
        "  fpr_array.append(fpr_rate)\n",
        "c=np.trapz(tpr_array, fpr_array)\n",
        "\n",
        "\n"
      ],
      "metadata": {
        "id": "D2FUk4Tv9fHh"
      },
      "execution_count": null,
      "outputs": []
    },
    {
      "cell_type": "code",
      "source": [
        "print(c)"
      ],
      "metadata": {
        "colab": {
          "base_uri": "https://localhost:8080/"
        },
        "id": "Yz90g64X-yuv",
        "outputId": "9abdc82a-31d3-44c6-d126-8c5551edbbaa"
      },
      "execution_count": null,
      "outputs": [
        {
          "output_type": "stream",
          "name": "stdout",
          "text": [
            "0.48829900000000004\n"
          ]
        }
      ]
    },
    {
      "cell_type": "code",
      "source": [
        "#############have to REMOVE REMOVE THIS##########\n",
        "df_sorted = df_a\n",
        "\n",
        "#df_sorted['proba_score_rounded'] = df_a['proba'].round(1)\n",
        "#df_sorted = df_sorted.sort_values(by = 'proba_score_rounded')\n",
        "df_sorted = df_sorted.sort_values(by = 'proba')\n",
        "threshold_values_list = []\n",
        "tpr_array =[]\n",
        "fpr_array = []\n",
        "a_val_array = []\n",
        "#threshold_values_list = df_sorted.proba_score_rounded.unique()\n",
        "#threshold_values_list = [k for k in threshold_values_list if k != 0.0] # removing 0 threshold value \n",
        "for i in df_sorted['proba']:\n",
        "  key_name = \"T_\" + str(i).replace('.','_')\n",
        "\n",
        "  for j in df_a['proba']: \n",
        "    if j < i:\n",
        "      df_sorted[key_name] = 0\n",
        "    elif j >= i:\n",
        "      df_sorted[key_name] = 1\n",
        "\n",
        "   \n",
        "  tp, fn, fp, tn = compute_confusion_matrix(df_sorted,key_name)\n",
        "  #print(fn)\n",
        "  #print(f\"tp {tp} for keyname {key_name}\")\n",
        "  #print(f\"fp {fp} for keyname{key_name}\")\n",
        "  \n",
        "\n",
        "  tpr =  tp/tp + fn\n",
        "  fpr =  fp/fp + tn\n",
        "  #a = (500 * fn) + (100 * fp)\n",
        "  #print(f\"a = {a} for threshold {key_name}\")\n",
        "  tpr_array.append(tpr)\n",
        "  fpr_array.append(fpr)\n",
        "  \n",
        "  #a_val_array.append((a,i))\n",
        "  #result = min(a_val_array)[0],min(a_val_array)[1]\n",
        "\n",
        "\n",
        "print(tpr_array)\n",
        "print(fpr_array)\n",
        "#print(a_val_array)\n",
        "#print(result)\n",
        "area = np.trapz(tpr_array, fpr_array)\n",
        "print(area)"
      ],
      "metadata": {
        "colab": {
          "base_uri": "https://localhost:8080/"
        },
        "id": "JG0NndIrmIeR",
        "outputId": "78d55005-0e43-41df-d658-02b390345df0"
      },
      "execution_count": null,
      "outputs": [
        {
          "output_type": "stream",
          "name": "stderr",
          "text": [
            "/usr/local/lib/python3.7/dist-packages/ipykernel_launcher.py:20: PerformanceWarning: DataFrame is highly fragmented.  This is usually the result of calling `frame.insert` many times, which has poor performance.  Consider joining all columns at once using pd.concat(axis=1) instead.  To get a de-fragmented frame, use `newframe = frame.copy()`\n"
          ]
        }
      ]
    },
    {
      "cell_type": "code",
      "source": [
        "#Function to calculate Confusion Matrix\n",
        "def compute_confusion_matrix(data_frame,col_name):\n",
        "    #true_positive, false_negative, false_positive, true_negative = 0,0,0,0\n",
        "    for i in data_frame.itertuples():\n",
        "        if i.y == 1 and getattr(i,col_name) == 1:\n",
        "            true_positive += 1\n",
        "        elif i.y == 1 and getattr(i,col_name) == 0:\n",
        "            false_negative +=1\n",
        "        elif i.y == 0 and getattr(i,col_name) == 1:\n",
        "            false_positive +=1\n",
        "        elif i.y == 0 and getattr(i,col_name) == 0:\n",
        "            true_negative +=1\n",
        "    return true_positive, false_negative, false_positive, true_negative\n"
      ],
      "metadata": {
        "id": "0G0h6KUCdyfX"
      },
      "execution_count": null,
      "outputs": []
    },
    {
      "cell_type": "code",
      "source": [
        "#Function to calculate Precision\n",
        "def compute_precision(true_positive, false_negative, false_positive, true_negative,total_number_positive_points,total_number_points):\n",
        "  try:\n",
        "      precision = true_positive/(true_positive + false_positive)\n",
        "  except ZeroDivisionError:\n",
        "      precision = 0\n",
        "  return precision    "
      ],
      "metadata": {
        "id": "5_-UBlHfQ8Fq"
      },
      "execution_count": null,
      "outputs": []
    },
    {
      "cell_type": "code",
      "source": [
        "#Function to calculate recall\n",
        "def compute_recall(true_positive, false_negative, false_positive, true_negative,total_number_positive_points,total_number_points):\n",
        "  try:\n",
        "    recall = true_positive/total_number_positive_points\n",
        "  except ZeroDivisionError:\n",
        "      recall = 0\n",
        "  return recall    "
      ],
      "metadata": {
        "id": "WcF4QM90Q8OE"
      },
      "execution_count": null,
      "outputs": []
    },
    {
      "cell_type": "code",
      "source": [
        "#Function to calculate F1 Score\n",
        "def compute_f1_score(precision, recall):\n",
        "  try:\n",
        "    f1_score = 2 * ((precision * recall)/(precision + recall))\n",
        "  except ZeroDivisionError:\n",
        "    f1_score = 0\n",
        "  return f1_score  "
      ],
      "metadata": {
        "id": "5hKHBVxXQ733"
      },
      "execution_count": null,
      "outputs": []
    },
    {
      "cell_type": "code",
      "source": [
        "#Function to calculate Accuracy Score\n",
        "def compute_accuracy_score(true_positive, false_negative, false_positive, true_negative,total_number_positive_points,total_number_points):\n",
        "  try:\n",
        "      accuracy_score = (true_positive + true_negative) /total_number_points\n",
        "  except ZeroDivisionError:\n",
        "      accuracy_score = 0\n",
        "  return accuracy_score    \n"
      ],
      "metadata": {
        "id": "j5vWSKsPQ56C"
      },
      "execution_count": null,
      "outputs": []
    },
    {
      "cell_type": "code",
      "source": [
        "#Function to calculate AUC Score\n",
        "def compute_auc_score(data_frame):\n",
        "  tpr_array =[]\n",
        "  fpr_array = []\n",
        "  a_val_array = []\n",
        "  threshold_values_list = []\n",
        "  df_sorted = data_frame.sort_values(by = 'proba')    #sorting probability values\n",
        "  df_sorted['proba_score_rounded'] = data_frame['proba'].round(1) #rounding of value to 1 after decimal to \n",
        "  threshold_values_list = df_sorted.proba_score_rounded.unique()  #Getting Unique Threshold values\n",
        "  threshold_values_list = [k for k in threshold_values_list if k != 0.0] # removing 0 as threshold\n",
        "  for i in threshold_values_list:\n",
        "    key_name = \"T_\" + str(i).replace('.','_')\n",
        "    for j in data_frame['proba']:          # Getting Label value by comparing probability score to thresholds\n",
        "      if j < i:\n",
        "        df_sorted[key_name] = 0\n",
        "      elif j >= i:\n",
        "        df_sorted[key_name] = 1\n",
        "        \n",
        "    tp, fn, fp, tn = compute_confusion_matrix(df_sorted,key_name) #to get TP,FP, TN,TP values\n",
        "\n",
        "    tpr =  tp/ (tp + fn)\n",
        "    fpr =  fp/ (tn + fp)\n",
        "    tpr_array.append(tpr)\n",
        "    fpr_array.append(fpr)\n",
        "    auc_score =  np.trapz(tpr_array, fpr_array)\n",
        "    if data_frame.name == \"df_5c\":                       #calculating best threshold value for task \"C\"\n",
        "      scale_a = (500 * fn) + (100 * fp)\n",
        "      a_val_array.append((scale_a,i))\n",
        "      best_threshold = min(a_val_array)[0],min(a_val_array)[1]    # Getting best  threshold which gives lowest value of a\n",
        "    else: best_threshold = 0\n",
        "\n",
        "  return tpr_array, fpr_array,auc_score,a_val_array,best_threshold\n",
        "\n",
        "    "
      ],
      "metadata": {
        "id": "SR92vJTBVtBp"
      },
      "execution_count": null,
      "outputs": []
    },
    {
      "cell_type": "code",
      "source": [
        "#Function to plot AUC Score\n",
        "def plot_auc_score(tpr, fpr,auc_score):\n",
        "  plt.style.use('ggplot')\n",
        "  plt.plot(fpr, tpr, linestyle='--', marker='o', color='darkorange', lw = 2, label='ROC curve', clip_on=False)\n",
        "  plt.plot([0, 1], [0, 1], color='navy', linestyle='--')\n",
        "  plt.xlim([0.0, 1.0])\n",
        "  plt.ylim([0.0, 1.0])\n",
        "  plt.xlabel('False Positive Rate')\n",
        "  plt.ylabel('True Positive Rate')\n",
        "  plt.title('ROC curve, AUC = %.2f'%auc_score)\n",
        "  plt.legend(loc=\"lower right\")\n",
        "  plt.show()"
      ],
      "metadata": {
        "id": "V5vL_JrRVvJq"
      },
      "execution_count": null,
      "outputs": []
    },
    {
      "cell_type": "markdown",
      "source": [
        "# 5a.csv"
      ],
      "metadata": {
        "id": "kYeq9tElFFg4"
      }
    },
    {
      "cell_type": "code",
      "source": [
        "#calculating total points 5_a\n",
        "total_number_positive_points_5a, total_number_negative_points_5a,total_number_points_5a = calculate_total_pos_neg_points(df_a)\n",
        "print(f\"Total number of positive points in given dataset df_a is {total_number_positive_points_5a}\")\n",
        "print(f\"Total number of negative points in given dataset df_a is {total_number_negative_points_5a}\")\n",
        "print(f\"Total number of points in given dataset df_a is {total_number_points_5a}\")\n"
      ],
      "metadata": {
        "colab": {
          "base_uri": "https://localhost:8080/"
        },
        "id": "qlPj1YWgSjY_",
        "outputId": "3511b684-27a9-4bcc-a125-1231ac92c69c"
      },
      "execution_count": null,
      "outputs": [
        {
          "output_type": "stream",
          "name": "stdout",
          "text": [
            "Total number of positive points in given dataset df_a is 10000\n",
            "Total number of negative points in given dataset df_a is 100\n",
            "Total number of points in given dataset df_a is 10100\n"
          ]
        }
      ]
    },
    {
      "cell_type": "code",
      "source": [
        "#Get confusion matrix 5_a\n",
        "true_positive_5a, false_negative_5a, false_positive_5a, true_negative_5a = compute_confusion_matrix(df_a,'y_predicted')\n",
        "print(f\"True positives in df_a {true_positive_5a}\")\n",
        "print(f\"False Negatives in df_a {false_negative_5a}\")\n",
        "print(f\"False Positive in df_a {false_positive_5a}\")\n",
        "print(f\"True Negative in df_a {true_negative_5a}\")"
      ],
      "metadata": {
        "colab": {
          "base_uri": "https://localhost:8080/"
        },
        "id": "87dF9axfUGY_",
        "outputId": "fcfe610a-f3c8-4596-d8b1-209d93b57116"
      },
      "execution_count": null,
      "outputs": [
        {
          "output_type": "stream",
          "name": "stdout",
          "text": [
            "True positives in df_a 10000\n",
            "False Negatives in df_a 0\n",
            "False Positive in df_a 100\n",
            "True Negative in df_a 0\n"
          ]
        }
      ]
    },
    {
      "cell_type": "code",
      "source": [
        "#Get F1 score and Accuracy scre 5_a\n",
        "precision_5a = compute_precision(true_positive_5a, false_negative_5a, false_positive_5a, true_negative_5a,total_number_positive_points_5a,total_number_points_5a)\n",
        "recall_5a = compute_recall(true_positive_5a, false_negative_5a, false_positive_5a, true_negative_5a,total_number_positive_points_5a,total_number_points_5a)\n",
        "accuracy_score_5a = compute_accuracy_score(true_positive_5a, false_negative_5a, false_positive_5a, true_negative_5a,total_number_positive_points_5a,total_number_points_5a) \n",
        "f1_score_5a = compute_f1_score(precision_5a, recall_5a)\n",
        "\n",
        "print(f\"The F1 Score for dataset df_a/5a {f1_score_5a}\")\n",
        "print(f\"The accuracy score for dataset df_a/5a {accuracy_score_5a}\")\n"
      ],
      "metadata": {
        "colab": {
          "base_uri": "https://localhost:8080/"
        },
        "id": "_DY-JiOmqYov",
        "outputId": "823921a8-502b-48a1-e064-3d726d51c115"
      },
      "execution_count": null,
      "outputs": [
        {
          "output_type": "stream",
          "name": "stdout",
          "text": [
            "The F1 Score for dataset df_a/5a 0.9950248756218906\n",
            "The accuracy score for dataset df_a/5a 0.9900990099009901\n"
          ]
        }
      ]
    },
    {
      "cell_type": "code",
      "source": [
        "#AUC Score for 5a\n",
        "df_a.name = \"df_a\"\n",
        "tpr_5a, fpr_5a,auc_score_5a,a_val_array_5a,best_threshold_5a = compute_auc_score(df_a,total_number_positive_points_5a,total_number_negative_points_5a)\n",
        "print(f\"TPR for the Thresholds {tpr_5a}\")\n",
        "print(f\"FPR for the Thresholds {fpr_5a}\")\n",
        "print(f\"AUC score for dataset df_a/5a {auc_score_5a}\")"
      ],
      "metadata": {
        "colab": {
          "base_uri": "https://localhost:8080/"
        },
        "id": "9QnFb6iDt_q8",
        "outputId": "064a4d68-f12d-4e4d-c20b-be65cc123198"
      },
      "execution_count": null,
      "outputs": [
        {
          "output_type": "stream",
          "name": "stdout",
          "text": [
            "TPR for the Thresholds [0.0, 0.0, 0.0, 0.0, 0.0]\n",
            "FPR for the Thresholds [0.0, 0.0, 0.0, 0.0, 0.0]\n",
            "AUC score for dataset df_a/5a 0.0\n"
          ]
        }
      ]
    },
    {
      "cell_type": "code",
      "source": [
        "#Plotting AUC Score 5a\n",
        "plot_auc_score(tpr_5a,fpr_5a,auc_score_5a)"
      ],
      "metadata": {
        "colab": {
          "base_uri": "https://localhost:8080/",
          "height": 299
        },
        "id": "5whwlo27MhYQ",
        "outputId": "ecd96ad7-4db2-4813-9f9e-e7f84182372f"
      },
      "execution_count": null,
      "outputs": [
        {
          "output_type": "display_data",
          "data": {
            "text/plain": [
              "<Figure size 432x288 with 1 Axes>"
            ],
            "image/png": "[encoded data removed]"
          },
          "metadata": {}
        }
      ]
    },
    {
      "cell_type": "markdown",
      "source": [
        "# **5_b.csv**"
      ],
      "metadata": {
        "id": "mHOuRGrobrhm"
      }
    },
    {
      "cell_type": "code",
      "source": [
        "from google.colab import files\n",
        "uploaded = files.upload()\n"
      ],
      "metadata": {
        "colab": {
          "base_uri": "https://localhost:8080/",
          "height": 74
        },
        "id": "lBIOlSvhbLwc",
        "outputId": "931da30c-8f8e-4d80-f59f-595bd305e705"
      },
      "execution_count": null,
      "outputs": [
        {
          "output_type": "display_data",
          "data": {
            "text/plain": [
              "<IPython.core.display.HTML object>"
            ],
            "text/html": [
              "\n",
              "     <input type=\"file\" id=\"files-5dac7563-864e-46f7-b07a-a75b6ab324c8\" name=\"files[]\" multiple disabled\n",
              "        style=\"border:none\" />\n",
              "     <output id=\"result-5dac7563-864e-46f7-b07a-a75b6ab324c8\">\n",
              "      Upload widget is only available when the cell has been executed in the\n",
              "      current browser session. Please rerun this cell to enable.\n",
              "      </output>\n",
              "      <script>// Copyright 2017 Google LLC\n",
              "//\n",
              "// Licensed under the Apache License, Version 2.0 (the \"License\");\n",
              "// you may not use this file except in compliance with the License.\n",
              "// You may obtain a copy of the License at\n",
              "//\n",
              "//      http://www.apache.org/licenses/LICENSE-2.0\n",
              "//\n",
              "// Unless required by applicable law or agreed to in writing, software\n",
              "// distributed under the License is distributed on an \"AS IS\" BASIS,\n",
              "// WITHOUT WARRANTIES OR CONDITIONS OF ANY KIND, either express or implied.\n",
              "// See the License for the specific language governing permissions and\n",
              "// limitations under the License.\n",
              "\n",
              "/**\n",
              " * @fileoverview Helpers for google.colab Python module.\n",
              " */\n",
              "(function(scope) {\n",
              "function span(text, styleAttributes = {}) {\n",
              "  const element = document.createElement('span');\n",
              "  element.textContent = text;\n",
              "  for (const key of Object.keys(styleAttributes)) {\n",
              "    element.style[key] = styleAttributes[key];\n",
              "  }\n",
              "  return element;\n",
              "}\n",
              "\n",
              "// Max number of bytes which will be uploaded at a time.\n",
              "const MAX_PAYLOAD_SIZE = 100 * 1024;\n",
              "\n",
              "function _uploadFiles(inputId, outputId) {\n",
              "  const steps = uploadFilesStep(inputId, outputId);\n",
              "  const outputElement = document.getElementById(outputId);\n",
              "  // Cache steps on the outputElement to make it available for the next call\n",
              "  // to uploadFilesContinue from Python.\n",
              "  outputElement.steps = steps;\n",
              "\n",
              "  return _uploadFilesContinue(outputId);\n",
              "}\n",
              "\n",
              "// This is roughly an async generator (not supported in the browser yet),\n",
              "// where there are multiple asynchronous steps and the Python side is going\n",
              "// to poll for completion of each step.\n",
              "// This uses a Promise to block the python side on completion of each step,\n",
              "// then passes the result of the previous step as the input to the next step.\n",
              "function _uploadFilesContinue(outputId) {\n",
              "  const outputElement = document.getElementById(outputId);\n",
              "  const steps = outputElement.steps;\n",
              "\n",
              "  const next = steps.next(outputElement.lastPromiseValue);\n",
              "  return Promise.resolve(next.value.promise).then((value) => {\n",
              "    // Cache the last promise value to make it available to the next\n",
              "    // step of the generator.\n",
              "    outputElement.lastPromiseValue = value;\n",
              "    return next.value.response;\n",
              "  });\n",
              "}\n",
              "\n",
              "/**\n",
              " * Generator function which is called between each async step of the upload\n",
              " * process.\n",
              " * @param {string} inputId Element ID of the input file picker element.\n",
              " * @param {string} outputId Element ID of the output display.\n",
              " * @return {!Iterable<!Object>} Iterable of next steps.\n",
              " */\n",
              "function* uploadFilesStep(inputId, outputId) {\n",
              "  const inputElement = document.getElementById(inputId);\n",
              "  inputElement.disabled = false;\n",
              "\n",
              "  const outputElement = document.getElementById(outputId);\n",
              "  outputElement.innerHTML = '';\n",
              "\n",
              "  const pickedPromise = new Promise((resolve) => {\n",
              "    inputElement.addEventListener('change', (e) => {\n",
              "      resolve(e.target.files);\n",
              "    });\n",
              "  });\n",
              "\n",
              "  const cancel = document.createElement('button');\n",
              "  inputElement.parentElement.appendChild(cancel);\n",
              "  cancel.textContent = 'Cancel upload';\n",
              "  const cancelPromise = new Promise((resolve) => {\n",
              "    cancel.onclick = () => {\n",
              "      resolve(null);\n",
              "    };\n",
              "  });\n",
              "\n",
              "  // Wait for the user to pick the files.\n",
              "  const files = yield {\n",
              "    promise: Promise.race([pickedPromise, cancelPromise]),\n",
              "    response: {\n",
              "      action: 'starting',\n",
              "    }\n",
              "  };\n",
              "\n",
              "  cancel.remove();\n",
              "\n",
              "  // Disable the input element since further picks are not allowed.\n",
              "  inputElement.disabled = true;\n",
              "\n",
              "  if (!files) {\n",
              "    return {\n",
              "      response: {\n",
              "        action: 'complete',\n",
              "      }\n",
              "    };\n",
              "  }\n",
              "\n",
              "  for (const file of files) {\n",
              "    const li = document.createElement('li');\n",
              "    li.append(span(file.name, {fontWeight: 'bold'}));\n",
              "    li.append(span(\n",
              "        `(${file.type || 'n/a'}) - ${file.size} bytes, ` +\n",
              "        `last modified: ${\n",
              "            file.lastModifiedDate ? file.lastModifiedDate.toLocaleDateString() :\n",
              "                                    'n/a'} - `));\n",
              "    const percent = span('0% done');\n",
              "    li.appendChild(percent);\n",
              "\n",
              "    outputElement.appendChild(li);\n",
              "\n",
              "    const fileDataPromise = new Promise((resolve) => {\n",
              "      const reader = new FileReader();\n",
              "      reader.onload = (e) => {\n",
              "        resolve(e.target.result);\n",
              "      };\n",
              "      reader.readAsArrayBuffer(file);\n",
              "    });\n",
              "    // Wait for the data to be ready.\n",
              "    let fileData = yield {\n",
              "      promise: fileDataPromise,\n",
              "      response: {\n",
              "        action: 'continue',\n",
              "      }\n",
              "    };\n",
              "\n",
              "    // Use a chunked sending to avoid message size limits. See b/62115660.\n",
              "    let position = 0;\n",
              "    do {\n",
              "      const length = Math.min(fileData.byteLength - position, MAX_PAYLOAD_SIZE);\n",
              "      const chunk = new Uint8Array(fileData, position, length);\n",
              "      position += length;\n",
              "\n",
              "      const base64 = btoa(String.fromCharCode.apply(null, chunk));\n",
              "      yield {\n",
              "        response: {\n",
              "          action: 'append',\n",
              "          file: file.name,\n",
              "          data: base64,\n",
              "        },\n",
              "      };\n",
              "\n",
              "      let percentDone = fileData.byteLength === 0 ?\n",
              "          100 :\n",
              "          Math.round((position / fileData.byteLength) * 100);\n",
              "      percent.textContent = `${percentDone}% done`;\n",
              "\n",
              "    } while (position < fileData.byteLength);\n",
              "  }\n",
              "\n",
              "  // All done.\n",
              "  yield {\n",
              "    response: {\n",
              "      action: 'complete',\n",
              "    }\n",
              "  };\n",
              "}\n",
              "\n",
              "scope.google = scope.google || {};\n",
              "scope.google.colab = scope.google.colab || {};\n",
              "scope.google.colab._files = {\n",
              "  _uploadFiles,\n",
              "  _uploadFilesContinue,\n",
              "};\n",
              "})(self);\n",
              "</script> "
            ]
          },
          "metadata": {}
        },
        {
          "output_type": "stream",
          "name": "stdout",
          "text": [
            "Saving 5_b.csv to 5_b (2).csv\n"
          ]
        }
      ]
    },
    {
      "cell_type": "code",
      "source": [
        "df_b=pd.read_csv('5_b.csv')\n",
        "\n",
        "for i in df_b.proba:\n",
        "  if i > 0.5 or i== 0.5:\n",
        "    df_b['y_predicted'] = 1\n",
        "  else:\n",
        "    df_b['y_predicted'] = 0"
      ],
      "metadata": {
        "id": "4EG1kKh-bqwm"
      },
      "execution_count": null,
      "outputs": []
    },
    {
      "cell_type": "code",
      "source": [
        "#calculating total points 5_b\n",
        "total_number_positive_points_5b, total_number_negative_points_5b,total_number_points_5b = calculate_total_pos_neg_points(df_b)\n",
        "print(f\"Total number of positive points in given dataset df_b is {total_number_positive_points_5b}\")\n",
        "print(f\"Total number of negative points in given dataset df_b is {total_number_negative_points_5b}\")\n",
        "print(f\"Total number of points in given dataset df_b is {total_number_points_5b}\")"
      ],
      "metadata": {
        "colab": {
          "base_uri": "https://localhost:8080/"
        },
        "id": "RonXu_-SUN8n",
        "outputId": "8b935152-a230-45a9-abc2-ac8c7e0f014d"
      },
      "execution_count": null,
      "outputs": [
        {
          "output_type": "stream",
          "name": "stdout",
          "text": [
            "Total number of positive points in given dataset df_b is 100\n",
            "Total number of negative points in given dataset df_b is 10000\n",
            "Total number of points in given dataset df_b is 10100\n"
          ]
        }
      ]
    },
    {
      "cell_type": "code",
      "source": [
        "#Get confusion matrix 5_b\n",
        "true_positive_5b, false_negative_5b, false_positive_5b, true_negative_5b = compute_confusion_matrix(df_b,'y_predicted')\n",
        "print(f\"True positives in df_b {true_positive_5b}\")\n",
        "print(f\"False Negatives in df_b {false_negative_5b}\")\n",
        "print(f\"False Positive in df_b {false_positive_5b}\")\n",
        "print(f\"True Negative in df_b {true_negative_5b}\")"
      ],
      "metadata": {
        "colab": {
          "base_uri": "https://localhost:8080/"
        },
        "id": "ajhjTUIqUOTL",
        "outputId": "ba5bd533-dae6-445d-e007-296db69782b2"
      },
      "execution_count": null,
      "outputs": [
        {
          "output_type": "stream",
          "name": "stdout",
          "text": [
            "True positives in df_b 0\n",
            "False Negatives in df_b 100\n",
            "False Positive in df_b 0\n",
            "True Negative in df_b 10000\n"
          ]
        }
      ]
    },
    {
      "cell_type": "code",
      "source": [
        "#Get F1 score and Accuracy socre 5b\n",
        "precision_5b = compute_precision(true_positive_5b, false_negative_5b, false_positive_5b, true_negative_5b,total_number_positive_points_5b,total_number_points_5b)\n",
        "recall_5b = compute_recall(true_positive_5b, false_negative_5b, false_positive_5b, true_negative_5b,total_number_positive_points_5b,total_number_points_5b)\n",
        "accuracy_score_5b = compute_accuracy_score(true_positive_5b, false_negative_5b, false_positive_5b, true_negative_5b,total_number_positive_points_5b,total_number_points_5b) \n",
        "f1_score_5b = compute_f1_score(precision_5b, recall_5b)\n",
        "\n",
        "print(f\"The F1 Score for dataset df_b/5b {f1_score_5b}\")\n",
        "print(f\"The accuracy score for dataset df_b/5b {accuracy_score_5b}\")"
      ],
      "metadata": {
        "colab": {
          "base_uri": "https://localhost:8080/"
        },
        "id": "yu17xjn3W_E5",
        "outputId": "1a8d7f66-00bb-4548-e3c3-59c1a17f6bef"
      },
      "execution_count": null,
      "outputs": [
        {
          "output_type": "stream",
          "name": "stdout",
          "text": [
            "The F1 Score for dataset df_a/5b 0\n",
            "The accuracy score for dataset df_a/5b 0.9900990099009901\n"
          ]
        }
      ]
    },
    {
      "cell_type": "code",
      "source": [
        "#AUC Score for 5b:\n",
        "df_b.name = \"df_b\"\n",
        "tpr_5b, fpr_5b, auc_score_5b,a_val_array_5b,best_threshold_5b = compute_auc_score(df_b,total_number_positive_points_5b,total_number_negative_points_5b)\n",
        "print(f\"TPR for the Thresholds {tpr_5b}\")\n",
        "print(f\"FPR for the Thresholds {fpr_5b}\")\n",
        "print(f\"AUC score for dataset df_a/5a {auc_score_5b}\")"
      ],
      "metadata": {
        "colab": {
          "base_uri": "https://localhost:8080/",
          "height": 380
        },
        "id": "iVsVgVn7UPCu",
        "outputId": "c695076b-31dc-4e19-81ce-c66efbd074d3"
      },
      "execution_count": null,
      "outputs": [
        {
          "output_type": "error",
          "ename": "AttributeError",
          "evalue": "ignored",
          "traceback": [
            "\u001b[0;31m---------------------------------------------------------------------------\u001b[0m",
            "\u001b[0;31mAttributeError\u001b[0m                            Traceback (most recent call last)",
            "\u001b[0;32m<ipython-input-126-c30b62866a20>\u001b[0m in \u001b[0;36m<module>\u001b[0;34m\u001b[0m\n\u001b[1;32m      1\u001b[0m \u001b[0;31m#AUC Score for 5b:\u001b[0m\u001b[0;34m\u001b[0m\u001b[0;34m\u001b[0m\u001b[0;34m\u001b[0m\u001b[0m\n\u001b[0;32m----> 2\u001b[0;31m \u001b[0mtpr_5b\u001b[0m\u001b[0;34m,\u001b[0m \u001b[0mfpr_5b\u001b[0m\u001b[0;34m,\u001b[0m \u001b[0mauc_score_5b\u001b[0m\u001b[0;34m,\u001b[0m\u001b[0ma_val_array_5b\u001b[0m\u001b[0;34m,\u001b[0m\u001b[0mbest_threshold_5b\u001b[0m \u001b[0;34m=\u001b[0m \u001b[0mcompute_auc_score\u001b[0m\u001b[0;34m(\u001b[0m\u001b[0mdf_b\u001b[0m\u001b[0;34m,\u001b[0m\u001b[0mtotal_number_positive_points_5b\u001b[0m\u001b[0;34m,\u001b[0m\u001b[0mtotal_number_negative_points_5b\u001b[0m\u001b[0;34m)\u001b[0m\u001b[0;34m\u001b[0m\u001b[0;34m\u001b[0m\u001b[0m\n\u001b[0m\u001b[1;32m      3\u001b[0m \u001b[0mprint\u001b[0m\u001b[0;34m(\u001b[0m\u001b[0;34mf\"TPR for the Thresholds {tpr_5b}\"\u001b[0m\u001b[0;34m)\u001b[0m\u001b[0;34m\u001b[0m\u001b[0;34m\u001b[0m\u001b[0m\n\u001b[1;32m      4\u001b[0m \u001b[0mprint\u001b[0m\u001b[0;34m(\u001b[0m\u001b[0;34mf\"FPR for the Thresholds {fpr_5b}\"\u001b[0m\u001b[0;34m)\u001b[0m\u001b[0;34m\u001b[0m\u001b[0;34m\u001b[0m\u001b[0m\n\u001b[1;32m      5\u001b[0m \u001b[0mprint\u001b[0m\u001b[0;34m(\u001b[0m\u001b[0;34mf\"AUC score for dataset df_a/5a {auc_score_5b}\"\u001b[0m\u001b[0;34m)\u001b[0m\u001b[0;34m\u001b[0m\u001b[0;34m\u001b[0m\u001b[0m\n",
            "\u001b[0;32m<ipython-input-125-f9af2f0c0572>\u001b[0m in \u001b[0;36mcompute_auc_score\u001b[0;34m(data_frame, total_number_positive_points, total_number_negative_points)\u001b[0m\n\u001b[1;32m     27\u001b[0m     \u001b[0mfpr_array\u001b[0m\u001b[0;34m.\u001b[0m\u001b[0mappend\u001b[0m\u001b[0;34m(\u001b[0m\u001b[0mfpr\u001b[0m\u001b[0;34m)\u001b[0m\u001b[0;34m\u001b[0m\u001b[0;34m\u001b[0m\u001b[0m\n\u001b[1;32m     28\u001b[0m     \u001b[0mauc_score\u001b[0m \u001b[0;34m=\u001b[0m  \u001b[0mnp\u001b[0m\u001b[0;34m.\u001b[0m\u001b[0mtrapz\u001b[0m\u001b[0;34m(\u001b[0m\u001b[0mtpr_array\u001b[0m\u001b[0;34m,\u001b[0m \u001b[0mfpr_array\u001b[0m\u001b[0;34m)\u001b[0m\u001b[0;34m\u001b[0m\u001b[0;34m\u001b[0m\u001b[0m\n\u001b[0;32m---> 29\u001b[0;31m     \u001b[0;32mif\u001b[0m \u001b[0mdata_frame\u001b[0m\u001b[0;34m.\u001b[0m\u001b[0mname\u001b[0m \u001b[0;34m==\u001b[0m \u001b[0;34m\"df_5c\"\u001b[0m\u001b[0;34m:\u001b[0m                       \u001b[0;31m#calculating best threshold value for task \"C\"\u001b[0m\u001b[0;34m\u001b[0m\u001b[0;34m\u001b[0m\u001b[0m\n\u001b[0m\u001b[1;32m     30\u001b[0m       \u001b[0mscale_a\u001b[0m \u001b[0;34m=\u001b[0m \u001b[0;34m(\u001b[0m\u001b[0;36m500\u001b[0m \u001b[0;34m*\u001b[0m \u001b[0mfn\u001b[0m\u001b[0;34m)\u001b[0m \u001b[0;34m+\u001b[0m \u001b[0;34m(\u001b[0m\u001b[0;36m100\u001b[0m \u001b[0;34m*\u001b[0m \u001b[0mfp\u001b[0m\u001b[0;34m)\u001b[0m\u001b[0;34m\u001b[0m\u001b[0;34m\u001b[0m\u001b[0m\n\u001b[1;32m     31\u001b[0m       \u001b[0ma_val_array\u001b[0m\u001b[0;34m.\u001b[0m\u001b[0mappend\u001b[0m\u001b[0;34m(\u001b[0m\u001b[0;34m(\u001b[0m\u001b[0ma\u001b[0m\u001b[0;34m,\u001b[0m\u001b[0mi\u001b[0m\u001b[0;34m)\u001b[0m\u001b[0;34m)\u001b[0m\u001b[0;34m\u001b[0m\u001b[0;34m\u001b[0m\u001b[0m\n",
            "\u001b[0;32m/usr/local/lib/python3.7/dist-packages/pandas/core/generic.py\u001b[0m in \u001b[0;36m__getattr__\u001b[0;34m(self, name)\u001b[0m\n\u001b[1;32m   5485\u001b[0m         ):\n\u001b[1;32m   5486\u001b[0m             \u001b[0;32mreturn\u001b[0m \u001b[0mself\u001b[0m\u001b[0;34m[\u001b[0m\u001b[0mname\u001b[0m\u001b[0;34m]\u001b[0m\u001b[0;34m\u001b[0m\u001b[0;34m\u001b[0m\u001b[0m\n\u001b[0;32m-> 5487\u001b[0;31m         \u001b[0;32mreturn\u001b[0m \u001b[0mobject\u001b[0m\u001b[0;34m.\u001b[0m\u001b[0m__getattribute__\u001b[0m\u001b[0;34m(\u001b[0m\u001b[0mself\u001b[0m\u001b[0;34m,\u001b[0m \u001b[0mname\u001b[0m\u001b[0;34m)\u001b[0m\u001b[0;34m\u001b[0m\u001b[0;34m\u001b[0m\u001b[0m\n\u001b[0m\u001b[1;32m   5488\u001b[0m \u001b[0;34m\u001b[0m\u001b[0m\n\u001b[1;32m   5489\u001b[0m     \u001b[0;32mdef\u001b[0m \u001b[0m__setattr__\u001b[0m\u001b[0;34m(\u001b[0m\u001b[0mself\u001b[0m\u001b[0;34m,\u001b[0m \u001b[0mname\u001b[0m\u001b[0;34m:\u001b[0m \u001b[0mstr\u001b[0m\u001b[0;34m,\u001b[0m \u001b[0mvalue\u001b[0m\u001b[0;34m)\u001b[0m \u001b[0;34m->\u001b[0m \u001b[0;32mNone\u001b[0m\u001b[0;34m:\u001b[0m\u001b[0;34m\u001b[0m\u001b[0;34m\u001b[0m\u001b[0m\n",
            "\u001b[0;31mAttributeError\u001b[0m: 'DataFrame' object has no attribute 'name'"
          ]
        }
      ]
    },
    {
      "cell_type": "code",
      "source": [
        "#Plotting AUC Score for 5b\n",
        "plot_auc_score(tpr_5b,fpr_5b,auc_score_5b)"
      ],
      "metadata": {
        "colab": {
          "base_uri": "https://localhost:8080/",
          "height": 299
        },
        "id": "N-MIGre8Un4K",
        "outputId": "11ce4643-0dd4-468c-aae5-c1beec907f6b"
      },
      "execution_count": null,
      "outputs": [
        {
          "output_type": "display_data",
          "data": {
            "text/plain": [
              "<Figure size 432x288 with 1 Axes>"
            ],
            "image/png": "[encoded data removed]"
          },
          "metadata": {}
        }
      ]
    },
    {
      "cell_type": "markdown",
      "source": [
        "# 5c.csv\n",
        "Compute the best threshold (similarly to ROC curve computation) of probability which gives lowest values of metric A for the given data"
      ],
      "metadata": {
        "id": "IU8j0V8xXgUE"
      }
    },
    {
      "cell_type": "code",
      "source": [
        "from google.colab import files\n",
        "uploaded = files.upload()\n"
      ],
      "metadata": {
        "colab": {
          "base_uri": "https://localhost:8080/",
          "height": 74
        },
        "id": "mX283VICXuIl",
        "outputId": "30898c65-8e7f-4a33-940a-30029de7de09"
      },
      "execution_count": null,
      "outputs": [
        {
          "output_type": "display_data",
          "data": {
            "text/plain": [
              "<IPython.core.display.HTML object>"
            ],
            "text/html": [
              "\n",
              "     <input type=\"file\" id=\"files-4e4ac2be-5ecc-4588-9e65-3ac54df0bc23\" name=\"files[]\" multiple disabled\n",
              "        style=\"border:none\" />\n",
              "     <output id=\"result-4e4ac2be-5ecc-4588-9e65-3ac54df0bc23\">\n",
              "      Upload widget is only available when the cell has been executed in the\n",
              "      current browser session. Please rerun this cell to enable.\n",
              "      </output>\n",
              "      <script>// Copyright 2017 Google LLC\n",
              "//\n",
              "// Licensed under the Apache License, Version 2.0 (the \"License\");\n",
              "// you may not use this file except in compliance with the License.\n",
              "// You may obtain a copy of the License at\n",
              "//\n",
              "//      http://www.apache.org/licenses/LICENSE-2.0\n",
              "//\n",
              "// Unless required by applicable law or agreed to in writing, software\n",
              "// distributed under the License is distributed on an \"AS IS\" BASIS,\n",
              "// WITHOUT WARRANTIES OR CONDITIONS OF ANY KIND, either express or implied.\n",
              "// See the License for the specific language governing permissions and\n",
              "// limitations under the License.\n",
              "\n",
              "/**\n",
              " * @fileoverview Helpers for google.colab Python module.\n",
              " */\n",
              "(function(scope) {\n",
              "function span(text, styleAttributes = {}) {\n",
              "  const element = document.createElement('span');\n",
              "  element.textContent = text;\n",
              "  for (const key of Object.keys(styleAttributes)) {\n",
              "    element.style[key] = styleAttributes[key];\n",
              "  }\n",
              "  return element;\n",
              "}\n",
              "\n",
              "// Max number of bytes which will be uploaded at a time.\n",
              "const MAX_PAYLOAD_SIZE = 100 * 1024;\n",
              "\n",
              "function _uploadFiles(inputId, outputId) {\n",
              "  const steps = uploadFilesStep(inputId, outputId);\n",
              "  const outputElement = document.getElementById(outputId);\n",
              "  // Cache steps on the outputElement to make it available for the next call\n",
              "  // to uploadFilesContinue from Python.\n",
              "  outputElement.steps = steps;\n",
              "\n",
              "  return _uploadFilesContinue(outputId);\n",
              "}\n",
              "\n",
              "// This is roughly an async generator (not supported in the browser yet),\n",
              "// where there are multiple asynchronous steps and the Python side is going\n",
              "// to poll for completion of each step.\n",
              "// This uses a Promise to block the python side on completion of each step,\n",
              "// then passes the result of the previous step as the input to the next step.\n",
              "function _uploadFilesContinue(outputId) {\n",
              "  const outputElement = document.getElementById(outputId);\n",
              "  const steps = outputElement.steps;\n",
              "\n",
              "  const next = steps.next(outputElement.lastPromiseValue);\n",
              "  return Promise.resolve(next.value.promise).then((value) => {\n",
              "    // Cache the last promise value to make it available to the next\n",
              "    // step of the generator.\n",
              "    outputElement.lastPromiseValue = value;\n",
              "    return next.value.response;\n",
              "  });\n",
              "}\n",
              "\n",
              "/**\n",
              " * Generator function which is called between each async step of the upload\n",
              " * process.\n",
              " * @param {string} inputId Element ID of the input file picker element.\n",
              " * @param {string} outputId Element ID of the output display.\n",
              " * @return {!Iterable<!Object>} Iterable of next steps.\n",
              " */\n",
              "function* uploadFilesStep(inputId, outputId) {\n",
              "  const inputElement = document.getElementById(inputId);\n",
              "  inputElement.disabled = false;\n",
              "\n",
              "  const outputElement = document.getElementById(outputId);\n",
              "  outputElement.innerHTML = '';\n",
              "\n",
              "  const pickedPromise = new Promise((resolve) => {\n",
              "    inputElement.addEventListener('change', (e) => {\n",
              "      resolve(e.target.files);\n",
              "    });\n",
              "  });\n",
              "\n",
              "  const cancel = document.createElement('button');\n",
              "  inputElement.parentElement.appendChild(cancel);\n",
              "  cancel.textContent = 'Cancel upload';\n",
              "  const cancelPromise = new Promise((resolve) => {\n",
              "    cancel.onclick = () => {\n",
              "      resolve(null);\n",
              "    };\n",
              "  });\n",
              "\n",
              "  // Wait for the user to pick the files.\n",
              "  const files = yield {\n",
              "    promise: Promise.race([pickedPromise, cancelPromise]),\n",
              "    response: {\n",
              "      action: 'starting',\n",
              "    }\n",
              "  };\n",
              "\n",
              "  cancel.remove();\n",
              "\n",
              "  // Disable the input element since further picks are not allowed.\n",
              "  inputElement.disabled = true;\n",
              "\n",
              "  if (!files) {\n",
              "    return {\n",
              "      response: {\n",
              "        action: 'complete',\n",
              "      }\n",
              "    };\n",
              "  }\n",
              "\n",
              "  for (const file of files) {\n",
              "    const li = document.createElement('li');\n",
              "    li.append(span(file.name, {fontWeight: 'bold'}));\n",
              "    li.append(span(\n",
              "        `(${file.type || 'n/a'}) - ${file.size} bytes, ` +\n",
              "        `last modified: ${\n",
              "            file.lastModifiedDate ? file.lastModifiedDate.toLocaleDateString() :\n",
              "                                    'n/a'} - `));\n",
              "    const percent = span('0% done');\n",
              "    li.appendChild(percent);\n",
              "\n",
              "    outputElement.appendChild(li);\n",
              "\n",
              "    const fileDataPromise = new Promise((resolve) => {\n",
              "      const reader = new FileReader();\n",
              "      reader.onload = (e) => {\n",
              "        resolve(e.target.result);\n",
              "      };\n",
              "      reader.readAsArrayBuffer(file);\n",
              "    });\n",
              "    // Wait for the data to be ready.\n",
              "    let fileData = yield {\n",
              "      promise: fileDataPromise,\n",
              "      response: {\n",
              "        action: 'continue',\n",
              "      }\n",
              "    };\n",
              "\n",
              "    // Use a chunked sending to avoid message size limits. See b/62115660.\n",
              "    let position = 0;\n",
              "    do {\n",
              "      const length = Math.min(fileData.byteLength - position, MAX_PAYLOAD_SIZE);\n",
              "      const chunk = new Uint8Array(fileData, position, length);\n",
              "      position += length;\n",
              "\n",
              "      const base64 = btoa(String.fromCharCode.apply(null, chunk));\n",
              "      yield {\n",
              "        response: {\n",
              "          action: 'append',\n",
              "          file: file.name,\n",
              "          data: base64,\n",
              "        },\n",
              "      };\n",
              "\n",
              "      let percentDone = fileData.byteLength === 0 ?\n",
              "          100 :\n",
              "          Math.round((position / fileData.byteLength) * 100);\n",
              "      percent.textContent = `${percentDone}% done`;\n",
              "\n",
              "    } while (position < fileData.byteLength);\n",
              "  }\n",
              "\n",
              "  // All done.\n",
              "  yield {\n",
              "    response: {\n",
              "      action: 'complete',\n",
              "    }\n",
              "  };\n",
              "}\n",
              "\n",
              "scope.google = scope.google || {};\n",
              "scope.google.colab = scope.google.colab || {};\n",
              "scope.google.colab._files = {\n",
              "  _uploadFiles,\n",
              "  _uploadFilesContinue,\n",
              "};\n",
              "})(self);\n",
              "</script> "
            ]
          },
          "metadata": {}
        },
        {
          "output_type": "stream",
          "name": "stdout",
          "text": [
            "Saving 5_c.csv to 5_c (3).csv\n"
          ]
        }
      ]
    },
    {
      "cell_type": "code",
      "source": [
        "df_c=pd.read_csv('5_c.csv')\n",
        "df_c.head(10)"
      ],
      "metadata": {
        "colab": {
          "base_uri": "https://localhost:8080/",
          "height": 363
        },
        "id": "TCHpM2ZxYojc",
        "outputId": "4066fa05-64b2-4e2e-d0bb-510fd16f8c4e"
      },
      "execution_count": null,
      "outputs": [
        {
          "output_type": "execute_result",
          "data": {
            "text/plain": [
              "   y      prob\n",
              "0  0  0.458521\n",
              "1  0  0.505037\n",
              "2  0  0.418652\n",
              "3  0  0.412057\n",
              "4  0  0.375579\n",
              "5  0  0.595387\n",
              "6  0  0.370288\n",
              "7  0  0.299273\n",
              "8  0  0.297000\n",
              "9  0  0.266479"
            ],
            "text/html": [
              "\n",
              "  <div id=\"df-03ade6f6-f0f5-40cf-a97a-7e1135d5fbda\">\n",
              "    <div class=\"colab-df-container\">\n",
              "      <div>\n",
              "<style scoped>\n",
              "    .dataframe tbody tr th:only-of-type {\n",
              "        vertical-align: middle;\n",
              "    }\n",
              "\n",
              "    .dataframe tbody tr th {\n",
              "        vertical-align: top;\n",
              "    }\n",
              "\n",
              "    .dataframe thead th {\n",
              "        text-align: right;\n",
              "    }\n",
              "</style>\n",
              "<table border=\"1\" class=\"dataframe\">\n",
              "  <thead>\n",
              "    <tr style=\"text-align: right;\">\n",
              "      <th></th>\n",
              "      <th>y</th>\n",
              "      <th>prob</th>\n",
              "    </tr>\n",
              "  </thead>\n",
              "  <tbody>\n",
              "    <tr>\n",
              "      <th>0</th>\n",
              "      <td>0</td>\n",
              "      <td>0.458521</td>\n",
              "    </tr>\n",
              "    <tr>\n",
              "      <th>1</th>\n",
              "      <td>0</td>\n",
              "      <td>0.505037</td>\n",
              "    </tr>\n",
              "    <tr>\n",
              "      <th>2</th>\n",
              "      <td>0</td>\n",
              "      <td>0.418652</td>\n",
              "    </tr>\n",
              "    <tr>\n",
              "      <th>3</th>\n",
              "      <td>0</td>\n",
              "      <td>0.412057</td>\n",
              "    </tr>\n",
              "    <tr>\n",
              "      <th>4</th>\n",
              "      <td>0</td>\n",
              "      <td>0.375579</td>\n",
              "    </tr>\n",
              "    <tr>\n",
              "      <th>5</th>\n",
              "      <td>0</td>\n",
              "      <td>0.595387</td>\n",
              "    </tr>\n",
              "    <tr>\n",
              "      <th>6</th>\n",
              "      <td>0</td>\n",
              "      <td>0.370288</td>\n",
              "    </tr>\n",
              "    <tr>\n",
              "      <th>7</th>\n",
              "      <td>0</td>\n",
              "      <td>0.299273</td>\n",
              "    </tr>\n",
              "    <tr>\n",
              "      <th>8</th>\n",
              "      <td>0</td>\n",
              "      <td>0.297000</td>\n",
              "    </tr>\n",
              "    <tr>\n",
              "      <th>9</th>\n",
              "      <td>0</td>\n",
              "      <td>0.266479</td>\n",
              "    </tr>\n",
              "  </tbody>\n",
              "</table>\n",
              "</div>\n",
              "      <button class=\"colab-df-convert\" onclick=\"convertToInteractive('df-03ade6f6-f0f5-40cf-a97a-7e1135d5fbda')\"\n",
              "              title=\"Convert this dataframe to an interactive table.\"\n",
              "              style=\"display:none;\">\n",
              "        \n",
              "  <svg xmlns=\"http://www.w3.org/2000/svg\" height=\"24px\"viewBox=\"0 0 24 24\"\n",
              "       width=\"24px\">\n",
              "    <path d=\"M0 0h24v24H0V0z\" fill=\"none\"/>\n",
              "    <path d=\"M18.56 5.44l.94 2.06.94-2.06 2.06-.94-2.06-.94-.94-2.06-.94 2.06-2.06.94zm-11 1L8.5 8.5l.94-2.06 2.06-.94-2.06-.94L8.5 2.5l-.94 2.06-2.06.94zm10 10l.94 2.06.94-2.06 2.06-.94-2.06-.94-.94-2.06-.94 2.06-2.06.94z\"/><path d=\"M17.41 7.96l-1.37-1.37c-.4-.4-.92-.59-1.43-.59-.52 0-1.04.2-1.43.59L10.3 9.45l-7.72 7.72c-.78.78-.78 2.05 0 2.83L4 21.41c.39.39.9.59 1.41.59.51 0 1.02-.2 1.41-.59l7.78-7.78 2.81-2.81c.8-.78.8-2.07 0-2.86zM5.41 20L4 18.59l7.72-7.72 1.47 1.35L5.41 20z\"/>\n",
              "  </svg>\n",
              "      </button>\n",
              "      \n",
              "  <style>\n",
              "    .colab-df-container {\n",
              "      display:flex;\n",
              "      flex-wrap:wrap;\n",
              "      gap: 12px;\n",
              "    }\n",
              "\n",
              "    .colab-df-convert {\n",
              "      background-color: #E8F0FE;\n",
              "      border: none;\n",
              "      border-radius: 50%;\n",
              "      cursor: pointer;\n",
              "      display: none;\n",
              "      fill: #1967D2;\n",
              "      height: 32px;\n",
              "      padding: 0 0 0 0;\n",
              "      width: 32px;\n",
              "    }\n",
              "\n",
              "    .colab-df-convert:hover {\n",
              "      background-color: #E2EBFA;\n",
              "      box-shadow: 0px 1px 2px rgba(60, 64, 67, 0.3), 0px 1px 3px 1px rgba(60, 64, 67, 0.15);\n",
              "      fill: #174EA6;\n",
              "    }\n",
              "\n",
              "    [theme=dark] .colab-df-convert {\n",
              "      background-color: #3B4455;\n",
              "      fill: #D2E3FC;\n",
              "    }\n",
              "\n",
              "    [theme=dark] .colab-df-convert:hover {\n",
              "      background-color: #434B5C;\n",
              "      box-shadow: 0px 1px 3px 1px rgba(0, 0, 0, 0.15);\n",
              "      filter: drop-shadow(0px 1px 2px rgba(0, 0, 0, 0.3));\n",
              "      fill: #FFFFFF;\n",
              "    }\n",
              "  </style>\n",
              "\n",
              "      <script>\n",
              "        const buttonEl =\n",
              "          document.querySelector('#df-03ade6f6-f0f5-40cf-a97a-7e1135d5fbda button.colab-df-convert');\n",
              "        buttonEl.style.display =\n",
              "          google.colab.kernel.accessAllowed ? 'block' : 'none';\n",
              "\n",
              "        async function convertToInteractive(key) {\n",
              "          const element = document.querySelector('#df-03ade6f6-f0f5-40cf-a97a-7e1135d5fbda');\n",
              "          const dataTable =\n",
              "            await google.colab.kernel.invokeFunction('convertToInteractive',\n",
              "                                                     [key], {});\n",
              "          if (!dataTable) return;\n",
              "\n",
              "          const docLinkHtml = 'Like what you see? Visit the ' +\n",
              "            '<a target=\"_blank\" href=https://colab.research.google.com/notebooks/data_table.ipynb>data table notebook</a>'\n",
              "            + ' to learn more about interactive tables.';\n",
              "          element.innerHTML = '';\n",
              "          dataTable['output_type'] = 'display_data';\n",
              "          await google.colab.output.renderOutput(dataTable, element);\n",
              "          const docLink = document.createElement('div');\n",
              "          docLink.innerHTML = docLinkHtml;\n",
              "          element.appendChild(docLink);\n",
              "        }\n",
              "      </script>\n",
              "    </div>\n",
              "  </div>\n",
              "  "
            ]
          },
          "metadata": {},
          "execution_count": 85
        }
      ]
    },
    {
      "cell_type": "code",
      "source": [
        "df_c=pd.read_csv('5_c.csv')\n",
        "df_c.rename(columns = {'prob':'proba'}, inplace = True) #renaming column as above functions refering to column as proba\n",
        "for i in df_c.proba:\n",
        "  if i > 0.5 or i==0.5:\n",
        "    df_c['y_predicted'] = 1\n",
        "  else:\n",
        "    df_c['y_predicted'] = 0"
      ],
      "metadata": {
        "id": "zi96GuBKX45m"
      },
      "execution_count": null,
      "outputs": []
    },
    {
      "cell_type": "code",
      "source": [
        "#calculating total points 5c\n",
        "total_number_positive_points_5c, total_number_negative_points_5c,total_number_points_5c = calculate_total_pos_neg_points(df_c)\n",
        "print(f\"Total number of positive points in given dataset df_c is {total_number_positive_points_5c}\")\n",
        "print(f\"Total number of negative points in given dataset df_c is {total_number_negative_points_5c}\")\n",
        "print(f\"Total number of points in given dataset df_c is {total_number_points_5c}\")"
      ],
      "metadata": {
        "colab": {
          "base_uri": "https://localhost:8080/"
        },
        "id": "iVWe6Mb-X4zE",
        "outputId": "2787ce84-572c-4027-b3d0-e1f98ed89944"
      },
      "execution_count": null,
      "outputs": [
        {
          "output_type": "stream",
          "name": "stdout",
          "text": [
            "Total number of positive points in given dataset df_c is 1047\n",
            "Total number of negative points in given dataset df_c is 1805\n",
            "Total number of points in given dataset df_c is 2852\n"
          ]
        }
      ]
    },
    {
      "cell_type": "code",
      "source": [
        "#Get confusion matrix 5c\n",
        "true_positive_5c, false_negative_5c, false_positive_5c, true_negative_5c = compute_confusion_matrix(df_c,'y_predicted')\n",
        "print(f\"True positives in df_c {true_positive_5c}\")\n",
        "print(f\"False Negatives in df_c {false_negative_5c}\")\n",
        "print(f\"False Positive in df_c {false_positive_5c}\")\n",
        "print(f\"True Negative in df_c {true_negative_5c}\")"
      ],
      "metadata": {
        "colab": {
          "base_uri": "https://localhost:8080/"
        },
        "id": "q4djbRvPX4wB",
        "outputId": "62966c69-e3c3-467c-eb3f-ac8b5b657236"
      },
      "execution_count": null,
      "outputs": [
        {
          "output_type": "stream",
          "name": "stdout",
          "text": [
            "True positives in df_c 1047\n",
            "False Negatives in df_c 0\n",
            "False Positive in df_c 1805\n",
            "True Negative in df_c 0\n"
          ]
        }
      ]
    },
    {
      "cell_type": "code",
      "source": [
        "#Get F1 score and Accuracy socre 5c\n",
        "precision_5c = compute_precision(true_positive_5c, false_negative_5c, false_positive_5c, true_negative_5c,total_number_positive_points_5c,total_number_points_5c)\n",
        "recall_5c = compute_recall(true_positive_5c, false_negative_5c, false_positive_5c, true_negative_5c,total_number_positive_points_5c,total_number_points_5c)\n",
        "accuracy_score_5c = compute_accuracy_score(true_positive_5c, false_negative_5c, false_positive_5c, true_negative_5c,total_number_positive_points_5c,total_number_points_5c) \n",
        "f1_score_5c = compute_f1_score(precision_5c, recall_5c)\n",
        "\n",
        "print(f\"The F1 Score for dataset df_c/5c {f1_score_5c}\")\n",
        "print(f\"The accuracy score for dataset df_c/5c {accuracy_score_5c}\")"
      ],
      "metadata": {
        "colab": {
          "base_uri": "https://localhost:8080/"
        },
        "id": "WBHIH5iqX4s-",
        "outputId": "735939fc-05c5-4fa2-cd1e-95ae800fc70a"
      },
      "execution_count": null,
      "outputs": [
        {
          "output_type": "stream",
          "name": "stdout",
          "text": [
            "The F1 Score for dataset df_c/5c 0.5370607848166197\n",
            "The accuracy score for dataset df_c/5c 0.36711079943899017\n"
          ]
        }
      ]
    },
    {
      "cell_type": "code",
      "source": [
        "#AUC Score for 5c:\n",
        "df_c.name = \"df_5c\"\n",
        "tpr_5c, fpr_5c, auc_score_5c,a_val_array_5c,best_threshold_5c = compute_auc_score(df_c)\n",
        "print(f\"A value for correspoding thresholds are {a_val_array_5c}\")\n",
        "print(f\"Best threshold value for the given a is {best_threshold_5c}\")\n"
      ],
      "metadata": {
        "colab": {
          "base_uri": "https://localhost:8080/",
          "height": 356
        },
        "id": "_1vIJs7YavaM",
        "outputId": "e4ee85d7-7978-4a91-88fd-2bd7d62449e5"
      },
      "execution_count": null,
      "outputs": [
        {
          "output_type": "error",
          "ename": "ZeroDivisionError",
          "evalue": "ignored",
          "traceback": [
            "\u001b[0;31m---------------------------------------------------------------------------\u001b[0m",
            "\u001b[0;31mZeroDivisionError\u001b[0m                         Traceback (most recent call last)",
            "\u001b[0;32m<ipython-input-160-8ab0300b00d7>\u001b[0m in \u001b[0;36m<module>\u001b[0;34m\u001b[0m\n\u001b[1;32m      1\u001b[0m \u001b[0;31m#AUC Score for 5c:\u001b[0m\u001b[0;34m\u001b[0m\u001b[0;34m\u001b[0m\u001b[0;34m\u001b[0m\u001b[0m\n\u001b[1;32m      2\u001b[0m \u001b[0mdf_c\u001b[0m\u001b[0;34m.\u001b[0m\u001b[0mname\u001b[0m \u001b[0;34m=\u001b[0m \u001b[0;34m\"df_5c\"\u001b[0m\u001b[0;34m\u001b[0m\u001b[0;34m\u001b[0m\u001b[0m\n\u001b[0;32m----> 3\u001b[0;31m \u001b[0mtpr_5c\u001b[0m\u001b[0;34m,\u001b[0m \u001b[0mfpr_5c\u001b[0m\u001b[0;34m,\u001b[0m \u001b[0mauc_score_5c\u001b[0m\u001b[0;34m,\u001b[0m\u001b[0ma_val_array_5c\u001b[0m\u001b[0;34m,\u001b[0m\u001b[0mbest_threshold_5c\u001b[0m \u001b[0;34m=\u001b[0m \u001b[0mcompute_auc_score\u001b[0m\u001b[0;34m(\u001b[0m\u001b[0mdf_c\u001b[0m\u001b[0;34m)\u001b[0m\u001b[0;34m\u001b[0m\u001b[0;34m\u001b[0m\u001b[0m\n\u001b[0m\u001b[1;32m      4\u001b[0m \u001b[0mprint\u001b[0m\u001b[0;34m(\u001b[0m\u001b[0;34mf\"A value for correspoding thresholds are {a_val_array_5c}\"\u001b[0m\u001b[0;34m)\u001b[0m\u001b[0;34m\u001b[0m\u001b[0;34m\u001b[0m\u001b[0m\n\u001b[1;32m      5\u001b[0m \u001b[0mprint\u001b[0m\u001b[0;34m(\u001b[0m\u001b[0;34mf\"Best threshold value for the given a is {best_threshold_5c}\"\u001b[0m\u001b[0;34m)\u001b[0m\u001b[0;34m\u001b[0m\u001b[0;34m\u001b[0m\u001b[0m\n",
            "\u001b[0;32m<ipython-input-159-f9dc15e47c0d>\u001b[0m in \u001b[0;36mcompute_auc_score\u001b[0;34m(data_frame)\u001b[0m\n\u001b[1;32m     20\u001b[0m \u001b[0;34m\u001b[0m\u001b[0m\n\u001b[1;32m     21\u001b[0m     \u001b[0mtpr\u001b[0m \u001b[0;34m=\u001b[0m  \u001b[0mtp\u001b[0m\u001b[0;34m/\u001b[0m\u001b[0mtp\u001b[0m \u001b[0;34m+\u001b[0m \u001b[0mfn\u001b[0m\u001b[0;34m\u001b[0m\u001b[0;34m\u001b[0m\u001b[0m\n\u001b[0;32m---> 22\u001b[0;31m     \u001b[0mfpr\u001b[0m \u001b[0;34m=\u001b[0m  \u001b[0mfp\u001b[0m\u001b[0;34m/\u001b[0m\u001b[0mtn\u001b[0m \u001b[0;34m+\u001b[0m \u001b[0mfp\u001b[0m\u001b[0;34m\u001b[0m\u001b[0;34m\u001b[0m\u001b[0m\n\u001b[0m\u001b[1;32m     23\u001b[0m     \u001b[0mtpr_array\u001b[0m\u001b[0;34m.\u001b[0m\u001b[0mappend\u001b[0m\u001b[0;34m(\u001b[0m\u001b[0mtpr\u001b[0m\u001b[0;34m)\u001b[0m\u001b[0;34m\u001b[0m\u001b[0;34m\u001b[0m\u001b[0m\n\u001b[1;32m     24\u001b[0m     \u001b[0mfpr_array\u001b[0m\u001b[0;34m.\u001b[0m\u001b[0mappend\u001b[0m\u001b[0;34m(\u001b[0m\u001b[0mfpr\u001b[0m\u001b[0;34m)\u001b[0m\u001b[0;34m\u001b[0m\u001b[0;34m\u001b[0m\u001b[0m\n",
            "\u001b[0;31mZeroDivisionError\u001b[0m: division by zero"
          ]
        }
      ]
    },
    {
      "cell_type": "code",
      "source": [
        "#Plotting AUC Score for 5c\n",
        "plot_auc_score(tpr_5c,fpr_5c,auc_score_5c)"
      ],
      "metadata": {
        "colab": {
          "base_uri": "https://localhost:8080/",
          "height": 299
        },
        "id": "DAkJUcwwX4p_",
        "outputId": "1702bb13-23eb-4153-958a-545f396e99f8"
      },
      "execution_count": null,
      "outputs": [
        {
          "output_type": "display_data",
          "data": {
            "text/plain": [
              "<Figure size 432x288 with 1 Axes>"
            ],
            "image/png": "[encoded data removed]"
          },
          "metadata": {}
        }
      ]
    },
    {
      "cell_type": "markdown",
      "source": [
        "# 5_d.csv Compute performance metrics(for regression) for the given data "
      ],
      "metadata": {
        "id": "d2jX9YCcjK6w"
      }
    },
    {
      "cell_type": "code",
      "source": [
        "from google.colab import files\n",
        "uploaded = files.upload()"
      ],
      "metadata": {
        "colab": {
          "base_uri": "https://localhost:8080/",
          "height": 74
        },
        "id": "h9y2jaY0am3D",
        "outputId": "9f56fb6e-cccd-4b9f-805e-1dfe0f2507ad"
      },
      "execution_count": null,
      "outputs": [
        {
          "output_type": "display_data",
          "data": {
            "text/plain": [
              "<IPython.core.display.HTML object>"
            ],
            "text/html": [
              "\n",
              "     <input type=\"file\" id=\"files-daf6e615-83ee-45e3-a271-799c799cfe0a\" name=\"files[]\" multiple disabled\n",
              "        style=\"border:none\" />\n",
              "     <output id=\"result-daf6e615-83ee-45e3-a271-799c799cfe0a\">\n",
              "      Upload widget is only available when the cell has been executed in the\n",
              "      current browser session. Please rerun this cell to enable.\n",
              "      </output>\n",
              "      <script>// Copyright 2017 Google LLC\n",
              "//\n",
              "// Licensed under the Apache License, Version 2.0 (the \"License\");\n",
              "// you may not use this file except in compliance with the License.\n",
              "// You may obtain a copy of the License at\n",
              "//\n",
              "//      http://www.apache.org/licenses/LICENSE-2.0\n",
              "//\n",
              "// Unless required by applicable law or agreed to in writing, software\n",
              "// distributed under the License is distributed on an \"AS IS\" BASIS,\n",
              "// WITHOUT WARRANTIES OR CONDITIONS OF ANY KIND, either express or implied.\n",
              "// See the License for the specific language governing permissions and\n",
              "// limitations under the License.\n",
              "\n",
              "/**\n",
              " * @fileoverview Helpers for google.colab Python module.\n",
              " */\n",
              "(function(scope) {\n",
              "function span(text, styleAttributes = {}) {\n",
              "  const element = document.createElement('span');\n",
              "  element.textContent = text;\n",
              "  for (const key of Object.keys(styleAttributes)) {\n",
              "    element.style[key] = styleAttributes[key];\n",
              "  }\n",
              "  return element;\n",
              "}\n",
              "\n",
              "// Max number of bytes which will be uploaded at a time.\n",
              "const MAX_PAYLOAD_SIZE = 100 * 1024;\n",
              "\n",
              "function _uploadFiles(inputId, outputId) {\n",
              "  const steps = uploadFilesStep(inputId, outputId);\n",
              "  const outputElement = document.getElementById(outputId);\n",
              "  // Cache steps on the outputElement to make it available for the next call\n",
              "  // to uploadFilesContinue from Python.\n",
              "  outputElement.steps = steps;\n",
              "\n",
              "  return _uploadFilesContinue(outputId);\n",
              "}\n",
              "\n",
              "// This is roughly an async generator (not supported in the browser yet),\n",
              "// where there are multiple asynchronous steps and the Python side is going\n",
              "// to poll for completion of each step.\n",
              "// This uses a Promise to block the python side on completion of each step,\n",
              "// then passes the result of the previous step as the input to the next step.\n",
              "function _uploadFilesContinue(outputId) {\n",
              "  const outputElement = document.getElementById(outputId);\n",
              "  const steps = outputElement.steps;\n",
              "\n",
              "  const next = steps.next(outputElement.lastPromiseValue);\n",
              "  return Promise.resolve(next.value.promise).then((value) => {\n",
              "    // Cache the last promise value to make it available to the next\n",
              "    // step of the generator.\n",
              "    outputElement.lastPromiseValue = value;\n",
              "    return next.value.response;\n",
              "  });\n",
              "}\n",
              "\n",
              "/**\n",
              " * Generator function which is called between each async step of the upload\n",
              " * process.\n",
              " * @param {string} inputId Element ID of the input file picker element.\n",
              " * @param {string} outputId Element ID of the output display.\n",
              " * @return {!Iterable<!Object>} Iterable of next steps.\n",
              " */\n",
              "function* uploadFilesStep(inputId, outputId) {\n",
              "  const inputElement = document.getElementById(inputId);\n",
              "  inputElement.disabled = false;\n",
              "\n",
              "  const outputElement = document.getElementById(outputId);\n",
              "  outputElement.innerHTML = '';\n",
              "\n",
              "  const pickedPromise = new Promise((resolve) => {\n",
              "    inputElement.addEventListener('change', (e) => {\n",
              "      resolve(e.target.files);\n",
              "    });\n",
              "  });\n",
              "\n",
              "  const cancel = document.createElement('button');\n",
              "  inputElement.parentElement.appendChild(cancel);\n",
              "  cancel.textContent = 'Cancel upload';\n",
              "  const cancelPromise = new Promise((resolve) => {\n",
              "    cancel.onclick = () => {\n",
              "      resolve(null);\n",
              "    };\n",
              "  });\n",
              "\n",
              "  // Wait for the user to pick the files.\n",
              "  const files = yield {\n",
              "    promise: Promise.race([pickedPromise, cancelPromise]),\n",
              "    response: {\n",
              "      action: 'starting',\n",
              "    }\n",
              "  };\n",
              "\n",
              "  cancel.remove();\n",
              "\n",
              "  // Disable the input element since further picks are not allowed.\n",
              "  inputElement.disabled = true;\n",
              "\n",
              "  if (!files) {\n",
              "    return {\n",
              "      response: {\n",
              "        action: 'complete',\n",
              "      }\n",
              "    };\n",
              "  }\n",
              "\n",
              "  for (const file of files) {\n",
              "    const li = document.createElement('li');\n",
              "    li.append(span(file.name, {fontWeight: 'bold'}));\n",
              "    li.append(span(\n",
              "        `(${file.type || 'n/a'}) - ${file.size} bytes, ` +\n",
              "        `last modified: ${\n",
              "            file.lastModifiedDate ? file.lastModifiedDate.toLocaleDateString() :\n",
              "                                    'n/a'} - `));\n",
              "    const percent = span('0% done');\n",
              "    li.appendChild(percent);\n",
              "\n",
              "    outputElement.appendChild(li);\n",
              "\n",
              "    const fileDataPromise = new Promise((resolve) => {\n",
              "      const reader = new FileReader();\n",
              "      reader.onload = (e) => {\n",
              "        resolve(e.target.result);\n",
              "      };\n",
              "      reader.readAsArrayBuffer(file);\n",
              "    });\n",
              "    // Wait for the data to be ready.\n",
              "    let fileData = yield {\n",
              "      promise: fileDataPromise,\n",
              "      response: {\n",
              "        action: 'continue',\n",
              "      }\n",
              "    };\n",
              "\n",
              "    // Use a chunked sending to avoid message size limits. See b/62115660.\n",
              "    let position = 0;\n",
              "    do {\n",
              "      const length = Math.min(fileData.byteLength - position, MAX_PAYLOAD_SIZE);\n",
              "      const chunk = new Uint8Array(fileData, position, length);\n",
              "      position += length;\n",
              "\n",
              "      const base64 = btoa(String.fromCharCode.apply(null, chunk));\n",
              "      yield {\n",
              "        response: {\n",
              "          action: 'append',\n",
              "          file: file.name,\n",
              "          data: base64,\n",
              "        },\n",
              "      };\n",
              "\n",
              "      let percentDone = fileData.byteLength === 0 ?\n",
              "          100 :\n",
              "          Math.round((position / fileData.byteLength) * 100);\n",
              "      percent.textContent = `${percentDone}% done`;\n",
              "\n",
              "    } while (position < fileData.byteLength);\n",
              "  }\n",
              "\n",
              "  // All done.\n",
              "  yield {\n",
              "    response: {\n",
              "      action: 'complete',\n",
              "    }\n",
              "  };\n",
              "}\n",
              "\n",
              "scope.google = scope.google || {};\n",
              "scope.google.colab = scope.google.colab || {};\n",
              "scope.google.colab._files = {\n",
              "  _uploadFiles,\n",
              "  _uploadFilesContinue,\n",
              "};\n",
              "})(self);\n",
              "</script> "
            ]
          },
          "metadata": {}
        },
        {
          "output_type": "stream",
          "name": "stdout",
          "text": [
            "Saving 5_d.csv to 5_d.csv\n"
          ]
        }
      ]
    },
    {
      "cell_type": "code",
      "source": [
        "df_c=pd.read_csv('5_c.csv')\n",
        "df_c.head(10)"
      ],
      "metadata": {
        "colab": {
          "base_uri": "https://localhost:8080/",
          "height": 363
        },
        "id": "IFOqEt0HX4mR",
        "outputId": "485818f3-b881-4281-ada1-8d85ace424ba"
      },
      "execution_count": null,
      "outputs": [
        {
          "output_type": "execute_result",
          "data": {
            "text/plain": [
              "   y      prob\n",
              "0  0  0.458521\n",
              "1  0  0.505037\n",
              "2  0  0.418652\n",
              "3  0  0.412057\n",
              "4  0  0.375579\n",
              "5  0  0.595387\n",
              "6  0  0.370288\n",
              "7  0  0.299273\n",
              "8  0  0.297000\n",
              "9  0  0.266479"
            ],
            "text/html": [
              "\n",
              "  <div id=\"df-ce14dbd5-382d-4996-a9e8-91b2764b93b3\">\n",
              "    <div class=\"colab-df-container\">\n",
              "      <div>\n",
              "<style scoped>\n",
              "    .dataframe tbody tr th:only-of-type {\n",
              "        vertical-align: middle;\n",
              "    }\n",
              "\n",
              "    .dataframe tbody tr th {\n",
              "        vertical-align: top;\n",
              "    }\n",
              "\n",
              "    .dataframe thead th {\n",
              "        text-align: right;\n",
              "    }\n",
              "</style>\n",
              "<table border=\"1\" class=\"dataframe\">\n",
              "  <thead>\n",
              "    <tr style=\"text-align: right;\">\n",
              "      <th></th>\n",
              "      <th>y</th>\n",
              "      <th>prob</th>\n",
              "    </tr>\n",
              "  </thead>\n",
              "  <tbody>\n",
              "    <tr>\n",
              "      <th>0</th>\n",
              "      <td>0</td>\n",
              "      <td>0.458521</td>\n",
              "    </tr>\n",
              "    <tr>\n",
              "      <th>1</th>\n",
              "      <td>0</td>\n",
              "      <td>0.505037</td>\n",
              "    </tr>\n",
              "    <tr>\n",
              "      <th>2</th>\n",
              "      <td>0</td>\n",
              "      <td>0.418652</td>\n",
              "    </tr>\n",
              "    <tr>\n",
              "      <th>3</th>\n",
              "      <td>0</td>\n",
              "      <td>0.412057</td>\n",
              "    </tr>\n",
              "    <tr>\n",
              "      <th>4</th>\n",
              "      <td>0</td>\n",
              "      <td>0.375579</td>\n",
              "    </tr>\n",
              "    <tr>\n",
              "      <th>5</th>\n",
              "      <td>0</td>\n",
              "      <td>0.595387</td>\n",
              "    </tr>\n",
              "    <tr>\n",
              "      <th>6</th>\n",
              "      <td>0</td>\n",
              "      <td>0.370288</td>\n",
              "    </tr>\n",
              "    <tr>\n",
              "      <th>7</th>\n",
              "      <td>0</td>\n",
              "      <td>0.299273</td>\n",
              "    </tr>\n",
              "    <tr>\n",
              "      <th>8</th>\n",
              "      <td>0</td>\n",
              "      <td>0.297000</td>\n",
              "    </tr>\n",
              "    <tr>\n",
              "      <th>9</th>\n",
              "      <td>0</td>\n",
              "      <td>0.266479</td>\n",
              "    </tr>\n",
              "  </tbody>\n",
              "</table>\n",
              "</div>\n",
              "      <button class=\"colab-df-convert\" onclick=\"convertToInteractive('df-ce14dbd5-382d-4996-a9e8-91b2764b93b3')\"\n",
              "              title=\"Convert this dataframe to an interactive table.\"\n",
              "              style=\"display:none;\">\n",
              "        \n",
              "  <svg xmlns=\"http://www.w3.org/2000/svg\" height=\"24px\"viewBox=\"0 0 24 24\"\n",
              "       width=\"24px\">\n",
              "    <path d=\"M0 0h24v24H0V0z\" fill=\"none\"/>\n",
              "    <path d=\"M18.56 5.44l.94 2.06.94-2.06 2.06-.94-2.06-.94-.94-2.06-.94 2.06-2.06.94zm-11 1L8.5 8.5l.94-2.06 2.06-.94-2.06-.94L8.5 2.5l-.94 2.06-2.06.94zm10 10l.94 2.06.94-2.06 2.06-.94-2.06-.94-.94-2.06-.94 2.06-2.06.94z\"/><path d=\"M17.41 7.96l-1.37-1.37c-.4-.4-.92-.59-1.43-.59-.52 0-1.04.2-1.43.59L10.3 9.45l-7.72 7.72c-.78.78-.78 2.05 0 2.83L4 21.41c.39.39.9.59 1.41.59.51 0 1.02-.2 1.41-.59l7.78-7.78 2.81-2.81c.8-.78.8-2.07 0-2.86zM5.41 20L4 18.59l7.72-7.72 1.47 1.35L5.41 20z\"/>\n",
              "  </svg>\n",
              "      </button>\n",
              "      \n",
              "  <style>\n",
              "    .colab-df-container {\n",
              "      display:flex;\n",
              "      flex-wrap:wrap;\n",
              "      gap: 12px;\n",
              "    }\n",
              "\n",
              "    .colab-df-convert {\n",
              "      background-color: #E8F0FE;\n",
              "      border: none;\n",
              "      border-radius: 50%;\n",
              "      cursor: pointer;\n",
              "      display: none;\n",
              "      fill: #1967D2;\n",
              "      height: 32px;\n",
              "      padding: 0 0 0 0;\n",
              "      width: 32px;\n",
              "    }\n",
              "\n",
              "    .colab-df-convert:hover {\n",
              "      background-color: #E2EBFA;\n",
              "      box-shadow: 0px 1px 2px rgba(60, 64, 67, 0.3), 0px 1px 3px 1px rgba(60, 64, 67, 0.15);\n",
              "      fill: #174EA6;\n",
              "    }\n",
              "\n",
              "    [theme=dark] .colab-df-convert {\n",
              "      background-color: #3B4455;\n",
              "      fill: #D2E3FC;\n",
              "    }\n",
              "\n",
              "    [theme=dark] .colab-df-convert:hover {\n",
              "      background-color: #434B5C;\n",
              "      box-shadow: 0px 1px 3px 1px rgba(0, 0, 0, 0.15);\n",
              "      filter: drop-shadow(0px 1px 2px rgba(0, 0, 0, 0.3));\n",
              "      fill: #FFFFFF;\n",
              "    }\n",
              "  </style>\n",
              "\n",
              "      <script>\n",
              "        const buttonEl =\n",
              "          document.querySelector('#df-ce14dbd5-382d-4996-a9e8-91b2764b93b3 button.colab-df-convert');\n",
              "        buttonEl.style.display =\n",
              "          google.colab.kernel.accessAllowed ? 'block' : 'none';\n",
              "\n",
              "        async function convertToInteractive(key) {\n",
              "          const element = document.querySelector('#df-ce14dbd5-382d-4996-a9e8-91b2764b93b3');\n",
              "          const dataTable =\n",
              "            await google.colab.kernel.invokeFunction('convertToInteractive',\n",
              "                                                     [key], {});\n",
              "          if (!dataTable) return;\n",
              "\n",
              "          const docLinkHtml = 'Like what you see? Visit the ' +\n",
              "            '<a target=\"_blank\" href=https://colab.research.google.com/notebooks/data_table.ipynb>data table notebook</a>'\n",
              "            + ' to learn more about interactive tables.';\n",
              "          element.innerHTML = '';\n",
              "          dataTable['output_type'] = 'display_data';\n",
              "          await google.colab.output.renderOutput(dataTable, element);\n",
              "          const docLink = document.createElement('div');\n",
              "          docLink.innerHTML = docLinkHtml;\n",
              "          element.appendChild(docLink);\n",
              "        }\n",
              "      </script>\n",
              "    </div>\n",
              "  </div>\n",
              "  "
            ]
          },
          "metadata": {},
          "execution_count": 143
        }
      ]
    },
    {
      "cell_type": "code",
      "source": [
        "mse = np.square(np.subtract(A, B)).mean()"
      ],
      "metadata": {
        "id": "js5v3UKfX4iy"
      },
      "execution_count": null,
      "outputs": []
    },
    {
      "cell_type": "code",
      "source": [],
      "metadata": {
        "id": "UgThyKMgX4fZ"
      },
      "execution_count": null,
      "outputs": []
    },
    {
      "cell_type": "code",
      "source": [],
      "metadata": {
        "id": "uC2gaHWRX4bG"
      },
      "execution_count": null,
      "outputs": []
    },
    {
      "cell_type": "code",
      "source": [],
      "metadata": {
        "id": "WDF4D5qWX4R8"
      },
      "execution_count": null,
      "outputs": []
    },
    {
      "cell_type": "code",
      "source": [],
      "metadata": {
        "id": "8snYr4-gX4L2"
      },
      "execution_count": null,
      "outputs": []
    }
  ]
}